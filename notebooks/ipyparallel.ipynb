{
 "cells": [
  {
   "cell_type": "markdown",
   "id": "9de59077",
   "metadata": {},
   "source": [
    "#### Import Client"
   ]
  },
  {
   "cell_type": "code",
   "execution_count": null,
   "id": "b40b5e04",
   "metadata": {},
   "outputs": [
    {
     "name": "stdout",
     "output_type": "stream",
     "text": [
      "\u001b7\u001b[?47h\u001b[>4;2m\u001b[?1h\u001b=\u001b[?2004h\u001b[1;24r\u001b[?12h\u001b[?12l\u001b[22;2t\u001b[22;1t\u001b[29m\u001b[m\u001b[H\u001b[2J\u001b[2;1H▽\u001b[6n\u001b[2;1H  \u001b[1;1H\u001b[>c\u001b]10;?\u0007\u001b]11;?\u0007\u001b[?25l\u001b[2;1H\u001b[1m\u001b[34m~                                                                               \u001b[3;1H~                                                                               \u001b[4;1H~                                                                               \u001b[5;1H~                                                                               \u001b[6;1H~                                                                               \u001b[7;1H~                                                                               \u001b[8;1H~                                                                               \u001b[9;1H~                                                                               \u001b[10;1H~                                                                               \u001b[11;1H~                                                                               \u001b[12;1H~                                                                               \u001b[13;1H~                                                                               \u001b[14;1H~                                                                               \u001b[15;1H~                                                                               \u001b[16;1H~                                                                               \u001b[17;1H~                                                                               \u001b[18;1H~                                                                               \u001b[19;1H~                                                                               \u001b[20;1H~                                                                               \u001b[21;1H~                                                                               \u001b[22;1H~                                                                               \u001b[23;1H~                                                                               \u001b[m\u001b[24;63H0,0-1\u001b[9CAll\u001b[6;32HVIM - Vi IMproved\u001b[8;33Hversion 8.1.2269\u001b[9;29Hby Bram Moolenaar et al.\u001b[10;21HModified by team+vim@tracker.debian.org\u001b[11;19HVim is open source and freely distributable\u001b[13;26HHelp poor children in Uganda!\u001b[14;18Htype  :help iccf\u001b[34m<Enter>\u001b[m       for information \u001b[16;18Htype  :q\u001b[34m<Enter>\u001b[m               to exit         \u001b[17;18Htype  :help\u001b[34m<Enter>\u001b[m  or  \u001b[34m<F1>\u001b[m  for on-line help\u001b[18;18Htype  :help version8\u001b[34m<Enter>\u001b[m   for version info\u001b[1;1H\u001b[?25h"
     ]
    }
   ],
   "source": [
    "!vim"
   ]
  },
  {
   "cell_type": "code",
   "execution_count": 1,
   "id": "26b89e0c",
   "metadata": {},
   "outputs": [],
   "source": [
    "# import os\n",
    "from ipyparallel import Client as c"
   ]
  },
  {
   "cell_type": "markdown",
   "id": "bd547340",
   "metadata": {},
   "source": [
    "#### Create a client  and a load_balanced_view"
   ]
  },
  {
   "cell_type": "code",
   "execution_count": 2,
   "id": "d6281fb4",
   "metadata": {
    "scrolled": true
   },
   "outputs": [
    {
     "name": "stdout",
     "output_type": "stream",
     "text": [
      "Profile : default,\n",
      "Engines : 1\n"
     ]
    }
   ],
   "source": [
    "cluster = c(profile='default')\n",
    "lb_view = cluster.load_balanced_view()\n",
    "\n",
    "print(f'Profile : {cluster.profile},\\nEngines : {len(lb_view)}')"
   ]
  },
  {
   "cell_type": "markdown",
   "id": "4e3edf0a",
   "metadata": {},
   "source": [
    "#### Without Loadbalancing"
   ]
  },
  {
   "cell_type": "code",
   "execution_count": 3,
   "id": "1db0c1cd",
   "metadata": {},
   "outputs": [],
   "source": [
    "def fun(x):\n",
    "    result = 0\n",
    "    for container in range(100000):\n",
    "        result = (result * x * 0.5)\n",
    "        if result % 5 == 0:\n",
    "            result -= 4\n",
    "    return result"
   ]
  },
  {
   "cell_type": "code",
   "execution_count": 4,
   "id": "11747fec",
   "metadata": {},
   "outputs": [
    {
     "name": "stdout",
     "output_type": "stream",
     "text": [
      "14.5 s ± 0 ns per loop (mean ± std. dev. of 1 run, 1 loop each)\n"
     ]
    }
   ],
   "source": [
    "%%timeit -r 1 -n 1\n",
    "result = []\n",
    "for i in range(1000):\n",
    "    result.append(fun(i))"
   ]
  },
  {
   "cell_type": "markdown",
   "id": "8c380444",
   "metadata": {},
   "source": [
    "#### With Loadbalancing\n",
    "\n",
    "###### view.map(function, *sequence, block=self.block, chunksize=1, orderd=True)"
   ]
  },
  {
   "cell_type": "code",
   "execution_count": 5,
   "id": "f0261446",
   "metadata": {},
   "outputs": [
    {
     "name": "stdout",
     "output_type": "stream",
     "text": [
      "25.1 s ± 0 ns per loop (mean ± std. dev. of 1 run, 1 loop each)\n"
     ]
    }
   ],
   "source": [
    "%%timeit -r 1 -n 1\n",
    "result = lb_view.map(fun, range(1000), block=True)"
   ]
  }
 ],
 "metadata": {
  "kernelspec": {
   "display_name": "Python 3",
   "language": "python",
   "name": "python3"
  },
  "language_info": {
   "codemirror_mode": {
    "name": "ipython",
    "version": 3
   },
   "file_extension": ".py",
   "mimetype": "text/x-python",
   "name": "python",
   "nbconvert_exporter": "python",
   "pygments_lexer": "ipython3",
   "version": "3.8.5"
  }
 },
 "nbformat": 4,
 "nbformat_minor": 5
}
